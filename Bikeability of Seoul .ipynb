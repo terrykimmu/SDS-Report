{
 "cells": [
  {
   "cell_type": "markdown",
   "id": "4979dde2",
   "metadata": {
    "tags": []
   },
   "source": [
    "# Bikeability of Seoul"
   ]
  },
  {
   "cell_type": "code",
   "execution_count": null,
   "id": "bc8f76a6",
   "metadata": {},
   "outputs": [],
   "source": [
    "import osmnx as ox\n",
    "import networkx as nx\n",
    "import pandana\n",
    "import pandas as pd\n",
    "import geopandas as gpd\n",
    "import matplotlib.pyplot as plt\n",
    "import matplotlib.colors as colors\n",
    "import matplotlib.cm as cm\n",
    "import seaborn as sns\n",
    "import folium \n",
    "\n",
    "%matplotlib inline\n",
    "import warnings\n",
    "warnings.filterwarnings(\"ignore\")"
   ]
  },
  {
   "cell_type": "code",
   "execution_count": null,
   "id": "224b45b2",
   "metadata": {},
   "outputs": [],
   "source": [
    "city = ox.geocode_to_gdf(\"Seoul, KR\")"
   ]
  },
  {
   "cell_type": "code",
   "execution_count": null,
   "id": "47ba1511",
   "metadata": {},
   "outputs": [],
   "source": [
    "city_proj = ox.project_gdf(city)\n",
    "print(city_proj.crs)"
   ]
  },
  {
   "cell_type": "code",
   "execution_count": null,
   "id": "8c4c3cca",
   "metadata": {},
   "outputs": [],
   "source": [
    "ax = city_proj.plot(fc=\"grey\")\n",
    "_ = ax.axis(\"off\")"
   ]
  },
  {
   "cell_type": "code",
   "execution_count": null,
   "id": "99e0d94f",
   "metadata": {},
   "outputs": [],
   "source": [
    "place = 'Seoul, KR'\n",
    "\n",
    "graph = ox.graph_from_place(place, network_type=\"bike\") "
   ]
  },
  {
   "cell_type": "code",
   "execution_count": null,
   "id": "6f6e1827",
   "metadata": {},
   "outputs": [],
   "source": [
    "Seoul_street = ox.plot_graph_folium(graph, popup_attribute=\"name\", weight=0.5, color=\"#8b0000\", opacity=0.7)\n",
    "Seoul_street"
   ]
  },
  {
   "cell_type": "code",
   "execution_count": null,
   "id": "7dc32444",
   "metadata": {},
   "outputs": [],
   "source": [
    "nodes, streets = ox.graph_to_gdfs(graph)\n",
    "streets.head()"
   ]
  },
  {
   "cell_type": "code",
   "execution_count": null,
   "id": "a531eda4",
   "metadata": {},
   "outputs": [],
   "source": [
    "type(streets)"
   ]
  },
  {
   "cell_type": "code",
   "execution_count": null,
   "id": "35991888",
   "metadata": {},
   "outputs": [],
   "source": [
    "streets.columns"
   ]
  },
  {
   "cell_type": "code",
   "execution_count": null,
   "id": "18752424",
   "metadata": {},
   "outputs": [],
   "source": [
    "cityname = 'Seoul, KR'"
   ]
  },
  {
   "cell_type": "code",
   "execution_count": null,
   "id": "216d9ed6",
   "metadata": {},
   "outputs": [],
   "source": [
    "graph_bike = ox.graph_from_place(cityname, network_type=\"bike\")"
   ]
  },
  {
   "cell_type": "code",
   "execution_count": null,
   "id": "f74f2056",
   "metadata": {},
   "outputs": [],
   "source": [
    "Seoul_street = ox.plot_graph_folium(graph, popup_attribute=\"name\", weight=0.5, color=\"#8b0000\", opacity=0.7)\n",
    "Seoul_street"
   ]
  },
  {
   "cell_type": "code",
   "execution_count": null,
   "id": "5850a692",
   "metadata": {},
   "outputs": [],
   "source": [
    "graph_bike = ox.projection.project_graph(graph_bike, to_crs=5179)"
   ]
  },
  {
   "cell_type": "code",
   "execution_count": null,
   "id": "e436f69f",
   "metadata": {},
   "outputs": [],
   "source": [
    "tags_bike = {\n",
    "    'amenities':[\n",
    "        'bicycle_rental=docking_station',\n",
    "        'bicycle_rental=dropoff_point'\n",
    "    ]\n",
    "}"
   ]
  },
  {
   "cell_type": "code",
   "execution_count": null,
   "id": "2cf931e5",
   "metadata": {},
   "outputs": [],
   "source": [
    "pois_bike = ox.geometries.geometries_from_place(cityname, tags=tags_bike)"
   ]
  },
  {
   "cell_type": "code",
   "execution_count": null,
   "id": "48ec3b2f",
   "metadata": {},
   "outputs": [],
   "source": [
    "pois_bike = pois.to_crs(epsg=5179)\n",
    "pois_bike"
   ]
  },
  {
   "cell_type": "code",
   "execution_count": null,
   "id": "037b5a55",
   "metadata": {},
   "outputs": [],
   "source": [
    "# Max time to walk in minutes (no routing to nodes further than this)\n",
    "bike_time = 15\n",
    "\n",
    "# Walking speed\n",
    "bike_speed = 20"
   ]
  },
  {
   "cell_type": "code",
   "execution_count": null,
   "id": "2f71867b",
   "metadata": {},
   "outputs": [],
   "source": [
    "# Set a uniform walking speed on every edge\n",
    "for u, v, data in graph_bike.edges(data=True):\n",
    "    data['speed_kph'] = bike_speed\n",
    "graph_bike = ox.add_edge_travel_times(graph_bike)\n",
    "\n",
    "# Extract node/edge GeoDataFrames, retaining only necessary columns (for pandana)\n",
    "nodes_bike = ox.graph_to_gdfs(graph_bike, edges=False)[['x', 'y']]\n",
    "edges_bike = ox.graph_to_gdfs(graph_bike, nodes=False).reset_index()[['u', 'v', 'travel_time']]"
   ]
  },
  {
   "cell_type": "code",
   "execution_count": null,
   "id": "762bd608",
   "metadata": {},
   "outputs": [],
   "source": [
    "centroids_bike = pois_bike.centroid"
   ]
  },
  {
   "cell_type": "code",
   "execution_count": null,
   "id": "df9d1998",
   "metadata": {},
   "outputs": [],
   "source": [
    "network = pandana.network.Network(\n",
    "    node_x=nodes_bike['x'],\n",
    "    node_y=nodes_bike['y'], \n",
    "    edge_from=edges_bike['u'],\n",
    "    edge_to=edges_bike['v'],\n",
    "    edge_weights=edges_bike[['travel_time']]\n",
    ")"
   ]
  },
  {
   "cell_type": "code",
   "execution_count": null,
   "id": "600cab8b",
   "metadata": {},
   "outputs": [],
   "source": [
    "centroids_bike = pois_bike.centroid"
   ]
  },
  {
   "cell_type": "code",
   "execution_count": null,
   "id": "c30c9c94",
   "metadata": {},
   "outputs": [],
   "source": [
    "# Minutes -> seconds\n",
    "maxdist = bike_time * 60"
   ]
  },
  {
   "cell_type": "code",
   "execution_count": null,
   "id": "4fa1e271",
   "metadata": {},
   "outputs": [],
   "source": [
    "network.set_pois(\n",
    "    category='pois',\n",
    "    maxdist=maxdist,\n",
    "    maxitems=5,\n",
    "    x_col=centroids_bike.x, \n",
    "    y_col=centroids_bike.y\n",
    ")"
   ]
  },
  {
   "cell_type": "code",
   "execution_count": null,
   "id": "22e39aee",
   "metadata": {},
   "outputs": [],
   "source": [
    "distances = network.nearest_pois(\n",
    "    distance=maxdist,\n",
    "    category='pois',\n",
    "    num_pois=5\n",
    ")\n",
    "\n",
    "distances.astype(int).head()"
   ]
  },
  {
   "cell_type": "code",
   "execution_count": null,
   "id": "7cfe5474",
   "metadata": {},
   "outputs": [],
   "source": [
    "# Set text parameters\n",
    "COLOR = 'white'\n",
    "plt.rcParams['text.color'] = COLOR\n",
    "plt.rcParams['axes.labelcolor'] = COLOR\n",
    "plt.rcParams['xtick.color'] = COLOR\n",
    "plt.rcParams['ytick.color'] = COLOR\n",
    "\n",
    "# Setup plot\n",
    "fig, ax = plt.subplots(figsize=(20,15))\n",
    "ax.set_axis_off()\n",
    "ax.set_aspect('equal')\n",
    "fig.set_facecolor((0,0,0))\n",
    "\n",
    "# Plot distance to nearest POI\n",
    "sc = ax.scatter(\n",
    "    x=nodes_bike['x'],\n",
    "    y=nodes_bike['y'], \n",
    "    c=distances[1],\n",
    "    s=5,\n",
    "    cmap='viridis_r',\n",
    ")\n",
    "\n",
    "# Colorbar\n",
    "cb = fig.colorbar(sc, ax=ax, shrink=0.8, ticks=[0, 300, 600, 900])\n",
    "cb.ax.tick_params(color='none', labelsize=20)\n",
    "cb.ax.set_yticklabels(['0', '5', '10', '>= 15'])\n",
    "cb.set_label('Biking time to nearest POI (minutes)', fontsize=20, fontweight='bold')\n",
    "\n",
    "# Remove empty space\n",
    "plt.tight_layout()"
   ]
  },
  {
   "cell_type": "markdown",
   "id": "b8092380",
   "metadata": {
    "tags": []
   },
   "source": [
    "# Ttareungi Public Bicycle Heat Map "
   ]
  },
  {
   "cell_type": "code",
   "execution_count": null,
   "id": "296aa885",
   "metadata": {},
   "outputs": [],
   "source": [
    "import json\n",
    "import pandas as pd\n",
    "import numpy as np\n",
    "\n",
    "import matplotlib.pyplot as plt\n",
    "import seaborn as sns\n",
    "import folium\n",
    "from folium import plugins\n",
    "import missingno as mnso\n",
    "\n",
    "import warnings\n",
    "warnings.filterwarnings('ignore')\n",
    "\n",
    "geo_path = 'data/seoul_municipalities_geo_simple.json'\n",
    "geo_str = json.load(open(geo_path, encoding='utf-8'))\n",
    "\n",
    "plt.rcParams['axes.unicode_minus'] = False\n",
    "plt.rcParams[\"font.family\"] = 'NanumGothic'"
   ]
  },
  {
   "cell_type": "code",
   "execution_count": null,
   "id": "28caa647",
   "metadata": {},
   "outputs": [],
   "source": [
    "rental = pd.read_csv('data/서울특별시 공공자전거 대여소 정보.csv')\n",
    "rental.head()"
   ]
  },
  {
   "cell_type": "code",
   "execution_count": null,
   "id": "c2b8eb4d",
   "metadata": {},
   "outputs": [],
   "source": [
    "rental.shape"
   ]
  },
  {
   "cell_type": "code",
   "execution_count": null,
   "id": "7a8d8959",
   "metadata": {},
   "outputs": [],
   "source": [
    "import missingno as msno\n",
    "\n",
    "msno.matrix(rental)"
   ]
  },
  {
   "cell_type": "code",
   "execution_count": null,
   "id": "6ac89eaa",
   "metadata": {},
   "outputs": [],
   "source": [
    "bike_map = folium.Map(location=[rental['위도'].mean(), rental['경도'].mean()], zoom_start=10.8, tiles='CartoDB positron')\n",
    "for i, row in rental.iterrows():\n",
    "    folium.CircleMarker(\n",
    "        location=[row['위도'], row['경도']],\n",
    "        radius=1,\n",
    "        fill=True,\n",
    "    ).add_to(bike_map)\n",
    "bike_map\n"
   ]
  },
  {
   "cell_type": "code",
   "execution_count": null,
   "id": "45bb36ef",
   "metadata": {},
   "outputs": [],
   "source": [
    "bike_map = folium.Map(location=[rental['위도'].mean(), rental['경도'].mean()], zoom_start=10.8, tiles='CartoDB positron')\n",
    "plugins.HeatMap(rental[['위도', '경도']].values.tolist(),\n",
    "                        radius=10, blur=5\n",
    "                        ).add_to(bike_map)\n",
    "plugins.Fullscreen(positions='topright').add_to(bike_map)\n",
    "bike_map\n"
   ]
  }
 ],
 "metadata": {
  "kernelspec": {
   "display_name": "terry",
   "language": "python",
   "name": "terry"
  },
  "language_info": {
   "codemirror_mode": {
    "name": "ipython",
    "version": 3
   },
   "file_extension": ".py",
   "mimetype": "text/x-python",
   "name": "python",
   "nbconvert_exporter": "python",
   "pygments_lexer": "ipython3",
   "version": "3.7.15"
  }
 },
 "nbformat": 4,
 "nbformat_minor": 5
}
